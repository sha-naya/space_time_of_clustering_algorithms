{
 "cells": [
  {
   "cell_type": "code",
   "execution_count": 58,
   "id": "3466d349-a0f1-4b96-88bb-73bef8967c7e",
   "metadata": {},
   "outputs": [
    {
     "name": "stdout",
     "output_type": "stream",
     "text": [
      "The memory_profiler extension is already loaded. To reload it, use:\n",
      "  %reload_ext memory_profiler\n"
     ]
    }
   ],
   "source": [
    "import pandas as pd\n",
    "import numpy as np\n",
    "\n",
    "from sklearn.datasets import make_blobs\n",
    "from sklearn import metrics\n",
    "from sklearn.preprocessing import StandardScaler\n",
    "\n",
    "pd.set_option('display.max_columns', None)\n",
    "%load_ext memory_profiler"
   ]
  },
  {
   "cell_type": "code",
   "execution_count": 23,
   "id": "fc0ed2f8-8607-4ab2-b340-a429c3d6eea1",
   "metadata": {},
   "outputs": [],
   "source": [
    "def create_exp2_data(n_features_array: list, n_samples: int = 5_000, centers: int = 5, random_state: int = 17):\n",
    "    global_storage: dict = {}\n",
    "    for n_feature in n_features_array:\n",
    "        local_storage: dict = {}\n",
    "        X, labels_true = make_blobs(\n",
    "            n_samples=n_samples, \n",
    "            n_features=n_feature,\n",
    "            centers=centers, \n",
    "            random_state=random_state, \n",
    "        )\n",
    "        X_scaled = StandardScaler().fit_transform(X)\n",
    "        local_storage['X'], local_storage['X_scaled'], local_storage['labels_true'] = X, X_scaled, labels_true\n",
    "        global_storage[n_feature] = local_storage\n",
    "    return global_storage"
   ]
  },
  {
   "cell_type": "code",
   "execution_count": 84,
   "id": "ba8e5f45-1dcb-4798-a9b3-36715cee7e7a",
   "metadata": {},
   "outputs": [
    {
     "data": {
      "text/html": [
       "<div>\n",
       "<style scoped>\n",
       "    .dataframe tbody tr th:only-of-type {\n",
       "        vertical-align: middle;\n",
       "    }\n",
       "\n",
       "    .dataframe tbody tr th {\n",
       "        vertical-align: top;\n",
       "    }\n",
       "\n",
       "    .dataframe thead th {\n",
       "        text-align: right;\n",
       "    }\n",
       "</style>\n",
       "<table border=\"1\" class=\"dataframe\">\n",
       "  <thead>\n",
       "    <tr style=\"text-align: right;\">\n",
       "      <th></th>\n",
       "      <th>caseid</th>\n",
       "      <th>dAge</th>\n",
       "      <th>dAncstry1</th>\n",
       "      <th>dAncstry2</th>\n",
       "      <th>iAvail</th>\n",
       "      <th>iCitizen</th>\n",
       "      <th>iClass</th>\n",
       "      <th>dDepart</th>\n",
       "      <th>iDisabl1</th>\n",
       "      <th>iDisabl2</th>\n",
       "      <th>iEnglish</th>\n",
       "      <th>iFeb55</th>\n",
       "      <th>iFertil</th>\n",
       "      <th>dHispanic</th>\n",
       "      <th>dHour89</th>\n",
       "      <th>dHours</th>\n",
       "      <th>iImmigr</th>\n",
       "      <th>dIncome1</th>\n",
       "      <th>dIncome2</th>\n",
       "      <th>dIncome3</th>\n",
       "      <th>dIncome4</th>\n",
       "      <th>dIncome5</th>\n",
       "      <th>dIncome6</th>\n",
       "      <th>dIncome7</th>\n",
       "      <th>dIncome8</th>\n",
       "      <th>dIndustry</th>\n",
       "      <th>iKorean</th>\n",
       "      <th>iLang1</th>\n",
       "      <th>iLooking</th>\n",
       "      <th>iMarital</th>\n",
       "      <th>iMay75880</th>\n",
       "      <th>iMeans</th>\n",
       "      <th>iMilitary</th>\n",
       "      <th>iMobility</th>\n",
       "      <th>iMobillim</th>\n",
       "      <th>dOccup</th>\n",
       "      <th>iOthrserv</th>\n",
       "      <th>iPerscare</th>\n",
       "      <th>dPOB</th>\n",
       "      <th>dPoverty</th>\n",
       "      <th>dPwgt1</th>\n",
       "      <th>iRagechld</th>\n",
       "      <th>dRearning</th>\n",
       "      <th>iRelat1</th>\n",
       "      <th>iRelat2</th>\n",
       "      <th>iRemplpar</th>\n",
       "      <th>iRiders</th>\n",
       "      <th>iRlabor</th>\n",
       "      <th>iRownchld</th>\n",
       "      <th>dRpincome</th>\n",
       "      <th>iRPOB</th>\n",
       "      <th>iRrelchld</th>\n",
       "      <th>iRspouse</th>\n",
       "      <th>iRvetserv</th>\n",
       "      <th>iSchool</th>\n",
       "      <th>iSept80</th>\n",
       "      <th>iSex</th>\n",
       "      <th>iSubfam1</th>\n",
       "      <th>iSubfam2</th>\n",
       "      <th>iTmpabsnt</th>\n",
       "      <th>dTravtime</th>\n",
       "      <th>iVietnam</th>\n",
       "      <th>dWeek89</th>\n",
       "      <th>iWork89</th>\n",
       "      <th>iWorklwk</th>\n",
       "      <th>iWWII</th>\n",
       "      <th>iYearsch</th>\n",
       "      <th>iYearwrk</th>\n",
       "      <th>dYrsserv</th>\n",
       "    </tr>\n",
       "  </thead>\n",
       "  <tbody>\n",
       "    <tr>\n",
       "      <th>0</th>\n",
       "      <td>10000</td>\n",
       "      <td>5</td>\n",
       "      <td>0</td>\n",
       "      <td>1</td>\n",
       "      <td>0</td>\n",
       "      <td>0</td>\n",
       "      <td>5</td>\n",
       "      <td>3</td>\n",
       "      <td>2</td>\n",
       "      <td>2</td>\n",
       "      <td>1</td>\n",
       "      <td>0</td>\n",
       "      <td>1</td>\n",
       "      <td>0</td>\n",
       "      <td>4</td>\n",
       "      <td>3</td>\n",
       "      <td>0</td>\n",
       "      <td>2</td>\n",
       "      <td>0</td>\n",
       "      <td>0</td>\n",
       "      <td>1</td>\n",
       "      <td>0</td>\n",
       "      <td>0</td>\n",
       "      <td>0</td>\n",
       "      <td>0</td>\n",
       "      <td>10</td>\n",
       "      <td>0</td>\n",
       "      <td>1</td>\n",
       "      <td>0</td>\n",
       "      <td>1</td>\n",
       "      <td>0</td>\n",
       "      <td>1</td>\n",
       "      <td>4</td>\n",
       "      <td>2</td>\n",
       "      <td>2</td>\n",
       "      <td>3</td>\n",
       "      <td>0</td>\n",
       "      <td>2</td>\n",
       "      <td>0</td>\n",
       "      <td>2</td>\n",
       "      <td>1</td>\n",
       "      <td>4</td>\n",
       "      <td>3</td>\n",
       "      <td>0</td>\n",
       "      <td>0</td>\n",
       "      <td>0</td>\n",
       "      <td>3</td>\n",
       "      <td>1</td>\n",
       "      <td>0</td>\n",
       "      <td>3</td>\n",
       "      <td>22</td>\n",
       "      <td>0</td>\n",
       "      <td>3</td>\n",
       "      <td>0</td>\n",
       "      <td>1</td>\n",
       "      <td>0</td>\n",
       "      <td>1</td>\n",
       "      <td>0</td>\n",
       "      <td>0</td>\n",
       "      <td>0</td>\n",
       "      <td>5</td>\n",
       "      <td>0</td>\n",
       "      <td>2</td>\n",
       "      <td>1</td>\n",
       "      <td>1</td>\n",
       "      <td>0</td>\n",
       "      <td>11</td>\n",
       "      <td>1</td>\n",
       "      <td>0</td>\n",
       "    </tr>\n",
       "    <tr>\n",
       "      <th>1</th>\n",
       "      <td>10001</td>\n",
       "      <td>6</td>\n",
       "      <td>1</td>\n",
       "      <td>1</td>\n",
       "      <td>0</td>\n",
       "      <td>0</td>\n",
       "      <td>7</td>\n",
       "      <td>5</td>\n",
       "      <td>2</td>\n",
       "      <td>2</td>\n",
       "      <td>0</td>\n",
       "      <td>0</td>\n",
       "      <td>3</td>\n",
       "      <td>0</td>\n",
       "      <td>1</td>\n",
       "      <td>1</td>\n",
       "      <td>0</td>\n",
       "      <td>1</td>\n",
       "      <td>0</td>\n",
       "      <td>0</td>\n",
       "      <td>0</td>\n",
       "      <td>0</td>\n",
       "      <td>1</td>\n",
       "      <td>0</td>\n",
       "      <td>0</td>\n",
       "      <td>4</td>\n",
       "      <td>0</td>\n",
       "      <td>2</td>\n",
       "      <td>0</td>\n",
       "      <td>0</td>\n",
       "      <td>0</td>\n",
       "      <td>1</td>\n",
       "      <td>4</td>\n",
       "      <td>1</td>\n",
       "      <td>2</td>\n",
       "      <td>2</td>\n",
       "      <td>0</td>\n",
       "      <td>2</td>\n",
       "      <td>0</td>\n",
       "      <td>2</td>\n",
       "      <td>2</td>\n",
       "      <td>4</td>\n",
       "      <td>2</td>\n",
       "      <td>1</td>\n",
       "      <td>0</td>\n",
       "      <td>0</td>\n",
       "      <td>1</td>\n",
       "      <td>1</td>\n",
       "      <td>0</td>\n",
       "      <td>2</td>\n",
       "      <td>10</td>\n",
       "      <td>0</td>\n",
       "      <td>1</td>\n",
       "      <td>0</td>\n",
       "      <td>1</td>\n",
       "      <td>0</td>\n",
       "      <td>1</td>\n",
       "      <td>0</td>\n",
       "      <td>0</td>\n",
       "      <td>0</td>\n",
       "      <td>1</td>\n",
       "      <td>0</td>\n",
       "      <td>2</td>\n",
       "      <td>1</td>\n",
       "      <td>1</td>\n",
       "      <td>0</td>\n",
       "      <td>5</td>\n",
       "      <td>1</td>\n",
       "      <td>0</td>\n",
       "    </tr>\n",
       "    <tr>\n",
       "      <th>2</th>\n",
       "      <td>10002</td>\n",
       "      <td>3</td>\n",
       "      <td>1</td>\n",
       "      <td>2</td>\n",
       "      <td>0</td>\n",
       "      <td>0</td>\n",
       "      <td>7</td>\n",
       "      <td>4</td>\n",
       "      <td>2</td>\n",
       "      <td>2</td>\n",
       "      <td>0</td>\n",
       "      <td>0</td>\n",
       "      <td>1</td>\n",
       "      <td>0</td>\n",
       "      <td>4</td>\n",
       "      <td>4</td>\n",
       "      <td>0</td>\n",
       "      <td>1</td>\n",
       "      <td>0</td>\n",
       "      <td>1</td>\n",
       "      <td>0</td>\n",
       "      <td>0</td>\n",
       "      <td>0</td>\n",
       "      <td>0</td>\n",
       "      <td>0</td>\n",
       "      <td>1</td>\n",
       "      <td>0</td>\n",
       "      <td>2</td>\n",
       "      <td>0</td>\n",
       "      <td>4</td>\n",
       "      <td>0</td>\n",
       "      <td>10</td>\n",
       "      <td>4</td>\n",
       "      <td>1</td>\n",
       "      <td>2</td>\n",
       "      <td>4</td>\n",
       "      <td>0</td>\n",
       "      <td>2</td>\n",
       "      <td>0</td>\n",
       "      <td>2</td>\n",
       "      <td>1</td>\n",
       "      <td>4</td>\n",
       "      <td>2</td>\n",
       "      <td>2</td>\n",
       "      <td>0</td>\n",
       "      <td>0</td>\n",
       "      <td>0</td>\n",
       "      <td>1</td>\n",
       "      <td>0</td>\n",
       "      <td>2</td>\n",
       "      <td>10</td>\n",
       "      <td>0</td>\n",
       "      <td>6</td>\n",
       "      <td>0</td>\n",
       "      <td>1</td>\n",
       "      <td>0</td>\n",
       "      <td>1</td>\n",
       "      <td>0</td>\n",
       "      <td>0</td>\n",
       "      <td>0</td>\n",
       "      <td>2</td>\n",
       "      <td>0</td>\n",
       "      <td>2</td>\n",
       "      <td>1</td>\n",
       "      <td>1</td>\n",
       "      <td>0</td>\n",
       "      <td>10</td>\n",
       "      <td>1</td>\n",
       "      <td>0</td>\n",
       "    </tr>\n",
       "    <tr>\n",
       "      <th>3</th>\n",
       "      <td>10003</td>\n",
       "      <td>4</td>\n",
       "      <td>1</td>\n",
       "      <td>2</td>\n",
       "      <td>0</td>\n",
       "      <td>0</td>\n",
       "      <td>1</td>\n",
       "      <td>3</td>\n",
       "      <td>2</td>\n",
       "      <td>2</td>\n",
       "      <td>0</td>\n",
       "      <td>0</td>\n",
       "      <td>3</td>\n",
       "      <td>0</td>\n",
       "      <td>3</td>\n",
       "      <td>3</td>\n",
       "      <td>0</td>\n",
       "      <td>1</td>\n",
       "      <td>0</td>\n",
       "      <td>0</td>\n",
       "      <td>0</td>\n",
       "      <td>0</td>\n",
       "      <td>0</td>\n",
       "      <td>0</td>\n",
       "      <td>1</td>\n",
       "      <td>4</td>\n",
       "      <td>0</td>\n",
       "      <td>2</td>\n",
       "      <td>0</td>\n",
       "      <td>2</td>\n",
       "      <td>0</td>\n",
       "      <td>1</td>\n",
       "      <td>4</td>\n",
       "      <td>1</td>\n",
       "      <td>2</td>\n",
       "      <td>2</td>\n",
       "      <td>0</td>\n",
       "      <td>2</td>\n",
       "      <td>0</td>\n",
       "      <td>2</td>\n",
       "      <td>1</td>\n",
       "      <td>2</td>\n",
       "      <td>2</td>\n",
       "      <td>0</td>\n",
       "      <td>0</td>\n",
       "      <td>0</td>\n",
       "      <td>1</td>\n",
       "      <td>1</td>\n",
       "      <td>0</td>\n",
       "      <td>2</td>\n",
       "      <td>10</td>\n",
       "      <td>0</td>\n",
       "      <td>4</td>\n",
       "      <td>0</td>\n",
       "      <td>1</td>\n",
       "      <td>0</td>\n",
       "      <td>1</td>\n",
       "      <td>0</td>\n",
       "      <td>0</td>\n",
       "      <td>0</td>\n",
       "      <td>1</td>\n",
       "      <td>0</td>\n",
       "      <td>1</td>\n",
       "      <td>1</td>\n",
       "      <td>1</td>\n",
       "      <td>0</td>\n",
       "      <td>10</td>\n",
       "      <td>1</td>\n",
       "      <td>0</td>\n",
       "    </tr>\n",
       "    <tr>\n",
       "      <th>4</th>\n",
       "      <td>10004</td>\n",
       "      <td>7</td>\n",
       "      <td>1</td>\n",
       "      <td>1</td>\n",
       "      <td>0</td>\n",
       "      <td>0</td>\n",
       "      <td>0</td>\n",
       "      <td>0</td>\n",
       "      <td>2</td>\n",
       "      <td>2</td>\n",
       "      <td>0</td>\n",
       "      <td>0</td>\n",
       "      <td>3</td>\n",
       "      <td>0</td>\n",
       "      <td>0</td>\n",
       "      <td>0</td>\n",
       "      <td>0</td>\n",
       "      <td>0</td>\n",
       "      <td>0</td>\n",
       "      <td>0</td>\n",
       "      <td>0</td>\n",
       "      <td>1</td>\n",
       "      <td>0</td>\n",
       "      <td>0</td>\n",
       "      <td>0</td>\n",
       "      <td>0</td>\n",
       "      <td>0</td>\n",
       "      <td>2</td>\n",
       "      <td>2</td>\n",
       "      <td>0</td>\n",
       "      <td>0</td>\n",
       "      <td>0</td>\n",
       "      <td>4</td>\n",
       "      <td>1</td>\n",
       "      <td>2</td>\n",
       "      <td>0</td>\n",
       "      <td>0</td>\n",
       "      <td>2</td>\n",
       "      <td>0</td>\n",
       "      <td>2</td>\n",
       "      <td>1</td>\n",
       "      <td>4</td>\n",
       "      <td>0</td>\n",
       "      <td>1</td>\n",
       "      <td>0</td>\n",
       "      <td>0</td>\n",
       "      <td>0</td>\n",
       "      <td>6</td>\n",
       "      <td>0</td>\n",
       "      <td>2</td>\n",
       "      <td>22</td>\n",
       "      <td>0</td>\n",
       "      <td>1</td>\n",
       "      <td>0</td>\n",
       "      <td>1</td>\n",
       "      <td>0</td>\n",
       "      <td>1</td>\n",
       "      <td>0</td>\n",
       "      <td>0</td>\n",
       "      <td>3</td>\n",
       "      <td>0</td>\n",
       "      <td>0</td>\n",
       "      <td>0</td>\n",
       "      <td>2</td>\n",
       "      <td>2</td>\n",
       "      <td>0</td>\n",
       "      <td>5</td>\n",
       "      <td>6</td>\n",
       "      <td>0</td>\n",
       "    </tr>\n",
       "  </tbody>\n",
       "</table>\n",
       "</div>"
      ],
      "text/plain": [
       "   caseid  dAge  dAncstry1  dAncstry2  iAvail  iCitizen  iClass  dDepart  \\\n",
       "0   10000     5          0          1       0         0       5        3   \n",
       "1   10001     6          1          1       0         0       7        5   \n",
       "2   10002     3          1          2       0         0       7        4   \n",
       "3   10003     4          1          2       0         0       1        3   \n",
       "4   10004     7          1          1       0         0       0        0   \n",
       "\n",
       "   iDisabl1  iDisabl2  iEnglish  iFeb55  iFertil  dHispanic  dHour89  dHours  \\\n",
       "0         2         2         1       0        1          0        4       3   \n",
       "1         2         2         0       0        3          0        1       1   \n",
       "2         2         2         0       0        1          0        4       4   \n",
       "3         2         2         0       0        3          0        3       3   \n",
       "4         2         2         0       0        3          0        0       0   \n",
       "\n",
       "   iImmigr  dIncome1  dIncome2  dIncome3  dIncome4  dIncome5  dIncome6  \\\n",
       "0        0         2         0         0         1         0         0   \n",
       "1        0         1         0         0         0         0         1   \n",
       "2        0         1         0         1         0         0         0   \n",
       "3        0         1         0         0         0         0         0   \n",
       "4        0         0         0         0         0         1         0   \n",
       "\n",
       "   dIncome7  dIncome8  dIndustry  iKorean  iLang1  iLooking  iMarital  \\\n",
       "0         0         0         10        0       1         0         1   \n",
       "1         0         0          4        0       2         0         0   \n",
       "2         0         0          1        0       2         0         4   \n",
       "3         0         1          4        0       2         0         2   \n",
       "4         0         0          0        0       2         2         0   \n",
       "\n",
       "   iMay75880  iMeans  iMilitary  iMobility  iMobillim  dOccup  iOthrserv  \\\n",
       "0          0       1          4          2          2       3          0   \n",
       "1          0       1          4          1          2       2          0   \n",
       "2          0      10          4          1          2       4          0   \n",
       "3          0       1          4          1          2       2          0   \n",
       "4          0       0          4          1          2       0          0   \n",
       "\n",
       "   iPerscare  dPOB  dPoverty  dPwgt1  iRagechld  dRearning  iRelat1  iRelat2  \\\n",
       "0          2     0         2       1          4          3        0        0   \n",
       "1          2     0         2       2          4          2        1        0   \n",
       "2          2     0         2       1          4          2        2        0   \n",
       "3          2     0         2       1          2          2        0        0   \n",
       "4          2     0         2       1          4          0        1        0   \n",
       "\n",
       "   iRemplpar  iRiders  iRlabor  iRownchld  dRpincome  iRPOB  iRrelchld  \\\n",
       "0          0        3        1          0          3     22          0   \n",
       "1          0        1        1          0          2     10          0   \n",
       "2          0        0        1          0          2     10          0   \n",
       "3          0        1        1          0          2     10          0   \n",
       "4          0        0        6          0          2     22          0   \n",
       "\n",
       "   iRspouse  iRvetserv  iSchool  iSept80  iSex  iSubfam1  iSubfam2  iTmpabsnt  \\\n",
       "0         3          0        1        0     1         0         0          0   \n",
       "1         1          0        1        0     1         0         0          0   \n",
       "2         6          0        1        0     1         0         0          0   \n",
       "3         4          0        1        0     1         0         0          0   \n",
       "4         1          0        1        0     1         0         0          3   \n",
       "\n",
       "   dTravtime  iVietnam  dWeek89  iWork89  iWorklwk  iWWII  iYearsch  iYearwrk  \\\n",
       "0          5         0        2        1         1      0        11         1   \n",
       "1          1         0        2        1         1      0         5         1   \n",
       "2          2         0        2        1         1      0        10         1   \n",
       "3          1         0        1        1         1      0        10         1   \n",
       "4          0         0        0        2         2      0         5         6   \n",
       "\n",
       "   dYrsserv  \n",
       "0         0  \n",
       "1         0  \n",
       "2         0  \n",
       "3         0  \n",
       "4         0  "
      ]
     },
     "execution_count": 84,
     "metadata": {},
     "output_type": "execute_result"
    }
   ],
   "source": [
    "census_data = pd.read_csv('/Users/ayan/Downloads/USCensus1990.data.txt', sep=',')\n",
    "census_data.head()"
   ]
  },
  {
   "cell_type": "code",
   "execution_count": 97,
   "id": "0953cd42-809a-4c50-93b4-e1b8c681fb19",
   "metadata": {},
   "outputs": [
    {
     "name": "stdout",
     "output_type": "stream",
     "text": [
      "0.511307699456009\n"
     ]
    }
   ],
   "source": [
    "kmeans = KMeans(\n",
    "    n_clusters=2, \n",
    "    #random_state=exp2_random_state,\n",
    ").fit(credit_card_cleaned)\n",
    "kmeans_labels_pred = kmeans.labels_\n",
    "\n",
    "silhouette_score: float = metrics.silhouette_score(X=credit_card_cleaned, labels=kmeans_labels_pred)\n",
    "print(silhouette_score)"
   ]
  },
  {
   "cell_type": "code",
   "execution_count": 24,
   "id": "c1a67c8f-517a-4a04-808a-3c29ae5e8eaf",
   "metadata": {},
   "outputs": [],
   "source": [
    "exp2_n_samples = 5_000\n",
    "exp2_centers = 5\n",
    "exp2_random_state = 17\n",
    "exp2_n_features_array: list = [3, 10, 100, 500, 1_000, 2_000]\n",
    "\n",
    "exp2_data: dict = create_exp2_data(n_features_array=exp2_n_features_array)"
   ]
  },
  {
   "cell_type": "markdown",
   "id": "8602ad5e-5a92-4660-b7ec-4e54efa36e47",
   "metadata": {},
   "source": [
    "### DBSCAN"
   ]
  },
  {
   "cell_type": "code",
   "execution_count": 89,
   "id": "33b3b766-9e99-439b-913a-490dcf9e56c0",
   "metadata": {},
   "outputs": [
    {
     "data": {
      "image/png": "[encoded data removed]",
      "text/plain": [
       "<Figure size 640x480 with 1 Axes>"
      ]
     },
     "metadata": {},
     "output_type": "display_data"
    },
    {
     "data": {
      "image/png": "[encoded data removed]",
      "text/plain": [
       "<Figure size 640x480 with 1 Axes>"
      ]
     },
     "metadata": {},
     "output_type": "display_data"
    },
    {
     "data": {
      "image/png": "[encoded data removed]",
      "text/plain": [
       "<Figure size 640x480 with 1 Axes>"
      ]
     },
     "metadata": {},
     "output_type": "display_data"
    },
    {
     "data": {
      "image/png": "[encoded data removed]",
      "text/plain": [
       "<Figure size 640x480 with 1 Axes>"
      ]
     },
     "metadata": {},
     "output_type": "display_data"
    },
    {
     "data": {
      "image/png": "[encoded data removed]",
      "text/plain": [
       "<Figure size 640x480 with 1 Axes>"
      ]
     },
     "metadata": {},
     "output_type": "display_data"
    },
    {
     "data": {
      "image/png": "[encoded data removed]",
      "text/plain": [
       "<Figure size 640x480 with 1 Axes>"
      ]
     },
     "metadata": {},
     "output_type": "display_data"
    }
   ],
   "source": [
    "from sklearn.cluster import DBSCAN\n",
    "from sklearn.neighbors import NearestNeighbors\n",
    "from matplotlib import pyplot as plt\n",
    "\n",
    "for n_feature in exp2_n_features_array:\n",
    "    neighbors = NearestNeighbors(n_neighbors=n_feature*2).fit(exp2_data[n_feature]['X'])\n",
    "    distances, indices = neighbors.kneighbors(exp2_data[n_feature]['X'])\n",
    "\n",
    "    distances = np.sort(distances, axis=0)\n",
    "    distances = distances[:,1]\n",
    "    plt.plot(distances)\n",
    "    plt.show()"
   ]
  },
  {
   "cell_type": "code",
   "execution_count": 90,
   "id": "d71348e7-1899-48f6-a24b-a6e815487480",
   "metadata": {},
   "outputs": [],
   "source": [
    "exp2_eps_array: list = [0.60, 2.75, 12.50, 30.00, 43.50, 61.75]"
   ]
  },
  {
   "cell_type": "code",
   "execution_count": 91,
   "id": "3c29f7b4-3039-444c-a98f-45940e3647b0",
   "metadata": {},
   "outputs": [
    {
     "name": "stdout",
     "output_type": "stream",
     "text": [
      "n_feature is  3  and its eps value is  0.6\n",
      "rand_score:  0.9421438687737548\n",
      "homogeneity_score:  0.8720531781885994\n",
      "-------------------------------------\n",
      "n_feature is  10  and its eps value is  2.75\n",
      "rand_score:  0.9886555711142229\n",
      "homogeneity_score:  0.9724476274671248\n",
      "-------------------------------------\n",
      "n_feature is  100  and its eps value is  12.5\n",
      "rand_score:  0.9918462892578516\n",
      "homogeneity_score:  0.9802121723263572\n",
      "-------------------------------------\n",
      "n_feature is  500  and its eps value is  30.0\n",
      "rand_score:  0.9904451290258052\n",
      "homogeneity_score:  0.977158222828381\n",
      "-------------------------------------\n",
      "n_feature is  1000  and its eps value is  43.5\n",
      "rand_score:  0.9983954390878176\n",
      "homogeneity_score:  0.9963251123511646\n",
      "-------------------------------------\n",
      "n_feature is  2000  and its eps value is  61.75\n",
      "rand_score:  0.9971839167833567\n",
      "homogeneity_score:  0.9933321129258849\n",
      "-------------------------------------\n"
     ]
    }
   ],
   "source": [
    "for n_feature, eps in zip(exp2_n_features_array, exp2_eps_array):\n",
    "    dbscan = DBSCAN(eps=eps, min_samples=10).fit(exp2_data[n_feature]['X'])\n",
    "    dbscan_labels_pred = dbscan.labels_\n",
    "    \n",
    "    rand_score: float = metrics.rand_score(exp2_data[n_feature]['labels_true'], dbscan_labels_pred)\n",
    "    homogeneity_score: float = metrics.homogeneity_score(exp2_data[n_feature]['labels_true'], dbscan_labels_pred)\n",
    "    # silhouette_score: float = metrics.silhouette_score(X=exp2_data[n_feature]['X'], labels=dbscan_labels_pred)\n",
    "    \n",
    "    print('n_feature is ', n_feature, ' and its eps value is ', eps)\n",
    "    print('rand_score: ', rand_score)\n",
    "    print('homogeneity_score: ', homogeneity_score)\n",
    "    # print('silhouette_score: ', silhouette_score)\n",
    "    print('-------------------------------------')"
   ]
  },
  {
   "cell_type": "markdown",
   "id": "9a49769d-b722-4ab8-9375-9be2b88cd366",
   "metadata": {},
   "source": [
    "### HDBSCAN"
   ]
  },
  {
   "cell_type": "code",
   "execution_count": 31,
   "id": "a9776483-acf8-4212-9b14-064c9abe67ba",
   "metadata": {},
   "outputs": [],
   "source": [
    "import hdbscan"
   ]
  },
  {
   "cell_type": "code",
   "execution_count": 32,
   "id": "8ce5212f-d9b7-4a5f-afa7-8b46ae5da4bc",
   "metadata": {},
   "outputs": [
    {
     "name": "stdout",
     "output_type": "stream",
     "text": [
      "n_feature is  3\n",
      "rand_score:  0.9993599519903981\n",
      "homogeneity_score:  0.99892415057786\n",
      "silhouette_score:  0.7032232591578749\n",
      "-------------------------------------\n",
      "n_feature is  10\n",
      "rand_score:  1.0\n",
      "homogeneity_score:  1.0\n",
      "silhouette_score:  0.8101446120879308\n",
      "-------------------------------------\n",
      "n_feature is  100\n",
      "rand_score:  1.0\n",
      "homogeneity_score:  1.0\n",
      "silhouette_score:  0.7804235731636148\n",
      "-------------------------------------\n",
      "n_feature is  500\n",
      "rand_score:  1.0\n",
      "homogeneity_score:  1.0\n",
      "silhouette_score:  0.781118586378627\n",
      "-------------------------------------\n",
      "n_feature is  1000\n",
      "rand_score:  1.0\n",
      "homogeneity_score:  1.0\n",
      "silhouette_score:  0.7913019398895927\n",
      "-------------------------------------\n",
      "n_feature is  2000\n",
      "rand_score:  1.0\n",
      "homogeneity_score:  1.0\n",
      "silhouette_score:  0.7913027627737743\n",
      "-------------------------------------\n"
     ]
    }
   ],
   "source": [
    "for n_feature in exp2_n_features_array:\n",
    "    hdbscan_clusterer = hdbscan.HDBSCAN(min_cluster_size=10, metric='euclidean').fit(exp2_data[n_feature]['X_scaled'])\n",
    "    hdbscan_labels_pred = hdbscan_clusterer.labels_\n",
    "    \n",
    "    rand_score: float = metrics.rand_score(exp2_data[n_feature]['labels_true'], hdbscan_labels_pred)\n",
    "    homogeneity_score: float = metrics.homogeneity_score(exp2_data[n_feature]['labels_true'], hdbscan_labels_pred)\n",
    "    silhouette_score: float = metrics.silhouette_score(X=exp2_data[n_feature]['X_scaled'], labels=hdbscan_labels_pred)\n",
    "    \n",
    "    print('n_feature is ', n_feature)\n",
    "    print('rand_score: ', rand_score)\n",
    "    print('homogeneity_score: ', homogeneity_score)\n",
    "    print('silhouette_score: ', silhouette_score)\n",
    "    print('-------------------------------------')"
   ]
  },
  {
   "cell_type": "markdown",
   "id": "1033ed46-d21e-4413-ba77-3e4a78afb49f",
   "metadata": {},
   "source": [
    "### K-means"
   ]
  },
  {
   "cell_type": "code",
   "execution_count": 33,
   "id": "e245d36d-599a-4123-898e-db6952b5bdfd",
   "metadata": {},
   "outputs": [],
   "source": [
    "from sklearn.cluster import KMeans"
   ]
  },
  {
   "cell_type": "code",
   "execution_count": 39,
   "id": "f03652a9-2208-43d5-9b89-c8aabb983dbe",
   "metadata": {},
   "outputs": [
    {
     "name": "stdout",
     "output_type": "stream",
     "text": [
      "n_feature is  3\n",
      "rand_score:  0.9998400480096019\n",
      "homogeneity_score:  0.9990172649654514\n",
      "silhouette_score:  0.7047217250800945\n",
      "-------------------------------------\n",
      "n_feature is  10\n",
      "rand_score:  1.0\n",
      "homogeneity_score:  1.0\n",
      "silhouette_score:  0.8101446120879308\n",
      "-------------------------------------\n",
      "n_feature is  100\n",
      "rand_score:  1.0\n",
      "homogeneity_score:  1.0\n",
      "silhouette_score:  0.7804235731636148\n",
      "-------------------------------------\n",
      "n_feature is  500\n",
      "rand_score:  1.0\n",
      "homogeneity_score:  1.0\n",
      "silhouette_score:  0.781118586378627\n",
      "-------------------------------------\n",
      "n_feature is  1000\n",
      "rand_score:  1.0\n",
      "homogeneity_score:  1.0\n",
      "silhouette_score:  0.7913019398895927\n",
      "-------------------------------------\n",
      "n_feature is  2000\n",
      "rand_score:  1.0\n",
      "homogeneity_score:  1.0\n",
      "silhouette_score:  0.7913027627737743\n",
      "-------------------------------------\n"
     ]
    }
   ],
   "source": [
    "for n_feature in exp2_n_features_array:\n",
    "    kmeans = KMeans(\n",
    "        n_clusters=exp2_centers, \n",
    "        #random_state=exp2_random_state,\n",
    "    ).fit(exp2_data[n_feature]['X_scaled'])\n",
    "    kmeans_labels_pred = kmeans.labels_\n",
    "    \n",
    "    rand_score: float = metrics.rand_score(exp2_data[n_feature]['labels_true'], kmeans_labels_pred)\n",
    "    homogeneity_score: float = metrics.homogeneity_score(exp2_data[n_feature]['labels_true'], kmeans_labels_pred)\n",
    "    silhouette_score: float = metrics.silhouette_score(X=exp2_data[n_feature]['X_scaled'], labels=kmeans_labels_pred)\n",
    "    \n",
    "    print('n_feature is ', n_feature)\n",
    "    print('rand_score: ', rand_score)\n",
    "    print('homogeneity_score: ', homogeneity_score)\n",
    "    print('silhouette_score: ', silhouette_score)\n",
    "    print('-------------------------------------')"
   ]
  },
  {
   "cell_type": "markdown",
   "id": "9d9ed678-af14-4a16-b13f-00050c884304",
   "metadata": {},
   "source": [
    "### BIRCH"
   ]
  },
  {
   "cell_type": "code",
   "execution_count": 36,
   "id": "669007fd-9c67-4558-b3ff-f9e4505e6892",
   "metadata": {},
   "outputs": [],
   "source": [
    "from sklearn.cluster import Birch"
   ]
  },
  {
   "cell_type": "code",
   "execution_count": 37,
   "id": "0bf9fc44-f118-4ea7-950f-5444a43fe443",
   "metadata": {},
   "outputs": [
    {
     "name": "stdout",
     "output_type": "stream",
     "text": [
      "n_feature is  3\n",
      "rand_score:  0.9998400480096019\n",
      "homogeneity_score:  0.9990172649654514\n",
      "silhouette_score:  0.7047217250800945\n",
      "-------------------------------------\n",
      "n_feature is  10\n",
      "rand_score:  1.0\n",
      "homogeneity_score:  1.0\n",
      "silhouette_score:  0.8101446120879308\n",
      "-------------------------------------\n",
      "n_feature is  100\n",
      "rand_score:  1.0\n",
      "homogeneity_score:  1.0\n",
      "silhouette_score:  0.7804235731636148\n",
      "-------------------------------------\n",
      "n_feature is  500\n",
      "rand_score:  1.0\n",
      "homogeneity_score:  1.0\n",
      "silhouette_score:  0.781118586378627\n",
      "-------------------------------------\n",
      "n_feature is  1000\n",
      "rand_score:  1.0\n",
      "homogeneity_score:  1.0\n",
      "silhouette_score:  0.7913019398895927\n",
      "-------------------------------------\n",
      "n_feature is  2000\n",
      "rand_score:  1.0\n",
      "homogeneity_score:  1.0\n",
      "silhouette_score:  0.7913027627737743\n",
      "-------------------------------------\n"
     ]
    }
   ],
   "source": [
    "for n_feature in exp2_n_features_array:\n",
    "    birch = Birch(threshold=0.5, branching_factor=50, n_clusters=exp2_centers).fit(exp2_data[n_feature]['X_scaled'])\n",
    "    birch_labels_pred = birch.labels_\n",
    "    \n",
    "    rand_score: float = metrics.rand_score(exp2_data[n_feature]['labels_true'], birch_labels_pred)\n",
    "    homogeneity_score: float = metrics.homogeneity_score(exp2_data[n_feature]['labels_true'], birch_labels_pred)\n",
    "    silhouette_score: float = metrics.silhouette_score(X=exp2_data[n_feature]['X_scaled'], labels=birch_labels_pred)\n",
    "    \n",
    "    print('n_feature is ', n_feature)\n",
    "    print('rand_score: ', rand_score)\n",
    "    print('homogeneity_score: ', homogeneity_score)\n",
    "    print('silhouette_score: ', silhouette_score)\n",
    "    print('-------------------------------------')"
   ]
  },
  {
   "cell_type": "code",
   "execution_count": 23,
   "id": "eae1f074-ad85-4686-b6e8-64179c55eec4",
   "metadata": {},
   "outputs": [
    {
     "name": "stdout",
     "output_type": "stream",
     "text": [
      "peak memory: 949.30 MiB, increment: 0.59 MiB\n"
     ]
    }
   ],
   "source": [
    "%%memit\n",
    "birch = Birch(threshold=0.5, branching_factor=50, n_clusters=exp1_centers).fit(exp1_data[100]['X_scaled'])"
   ]
  },
  {
   "cell_type": "code",
   "execution_count": 24,
   "id": "cf3cc39c-ed68-4c63-9baa-21063fd0797e",
   "metadata": {},
   "outputs": [
    {
     "name": "stdout",
     "output_type": "stream",
     "text": [
      "peak memory: 949.33 MiB, increment: 0.02 MiB\n"
     ]
    }
   ],
   "source": [
    "%%memit\n",
    "birch = Birch(threshold=0.5, branching_factor=50, n_clusters=exp1_centers).fit(exp1_data[1_000]['X_scaled'])"
   ]
  },
  {
   "cell_type": "code",
   "execution_count": 25,
   "id": "b3b66ad3-16fc-47d2-8a8b-fa55d29119a9",
   "metadata": {},
   "outputs": [
    {
     "name": "stdout",
     "output_type": "stream",
     "text": [
      "peak memory: 949.36 MiB, increment: 0.03 MiB\n"
     ]
    }
   ],
   "source": [
    "%%memit\n",
    "birch = Birch(threshold=0.5, branching_factor=50, n_clusters=exp1_centers).fit(exp1_data[10_000]['X_scaled'])"
   ]
  },
  {
   "cell_type": "code",
   "execution_count": 26,
   "id": "4c342ced-0a7a-4699-ad1b-e9235a60e9b8",
   "metadata": {},
   "outputs": [
    {
     "name": "stdout",
     "output_type": "stream",
     "text": [
      "peak memory: 951.42 MiB, increment: 2.06 MiB\n"
     ]
    }
   ],
   "source": [
    "%%memit\n",
    "birch = Birch(threshold=0.5, branching_factor=50, n_clusters=exp1_centers).fit(exp1_data[100_000]['X_scaled'])"
   ]
  },
  {
   "cell_type": "code",
   "execution_count": 27,
   "id": "792c735c-3ec2-4877-a606-c2c3edbf0608",
   "metadata": {},
   "outputs": [
    {
     "name": "stdout",
     "output_type": "stream",
     "text": [
      "peak memory: 967.42 MiB, increment: 16.00 MiB\n"
     ]
    }
   ],
   "source": [
    "%%memit\n",
    "birch = Birch(threshold=0.5, branching_factor=50, n_clusters=exp1_centers).fit(exp1_data[1_000_000]['X_scaled'])"
   ]
  },
  {
   "cell_type": "code",
   "execution_count": 28,
   "id": "b08da919-077a-4344-b402-6fd243456488",
   "metadata": {},
   "outputs": [
    {
     "name": "stdout",
     "output_type": "stream",
     "text": [
      "peak memory: 967.42 MiB, increment: 0.00 MiB\n"
     ]
    }
   ],
   "source": [
    "%%memit\n",
    "birch = Birch(threshold=0.5, branching_factor=50, n_clusters=exp1_centers).fit(exp1_data[2_000_000]['X_scaled'])"
   ]
  },
  {
   "cell_type": "markdown",
   "id": "16455e8e-c5fe-4408-8c19-93d3f3fcc7ef",
   "metadata": {},
   "source": [
    "### Agglomerative clustering"
   ]
  },
  {
   "cell_type": "code",
   "execution_count": 29,
   "id": "0c7d9298-dce2-4fb8-ab46-ca40668f9507",
   "metadata": {},
   "outputs": [],
   "source": [
    "from sklearn.cluster import AgglomerativeClustering"
   ]
  },
  {
   "cell_type": "code",
   "execution_count": 30,
   "id": "31d1e7e5-ce65-413d-8d14-fd53c43579ac",
   "metadata": {},
   "outputs": [
    {
     "name": "stdout",
     "output_type": "stream",
     "text": [
      "peak memory: 967.47 MiB, increment: -0.02 MiB\n"
     ]
    }
   ],
   "source": [
    "%%memit\n",
    "agglomerative = AgglomerativeClustering(n_clusters=exp1_centers).fit(exp1_data[100]['X_scaled'])"
   ]
  },
  {
   "cell_type": "code",
   "execution_count": 31,
   "id": "a7cdbe75-c007-4a6e-9e37-cac04f7148fa",
   "metadata": {},
   "outputs": [
    {
     "name": "stdout",
     "output_type": "stream",
     "text": [
      "peak memory: 967.64 MiB, increment: 0.14 MiB\n"
     ]
    }
   ],
   "source": [
    "%%memit\n",
    "agglomerative = AgglomerativeClustering(n_clusters=exp1_centers).fit(exp1_data[1_000]['X_scaled'])"
   ]
  },
  {
   "cell_type": "code",
   "execution_count": 32,
   "id": "051367d4-3232-4420-98a5-6a675b63cc1e",
   "metadata": {},
   "outputs": [
    {
     "name": "stdout",
     "output_type": "stream",
     "text": [
      "peak memory: 1732.44 MiB, increment: 764.80 MiB\n"
     ]
    }
   ],
   "source": [
    "%%memit\n",
    "agglomerative = AgglomerativeClustering(n_clusters=exp1_centers).fit(exp1_data[10_000]['X_scaled'])"
   ]
  },
  {
   "cell_type": "code",
   "execution_count": null,
   "id": "06a61e5e-8037-4cd6-8424-c2b4a40ce12d",
   "metadata": {},
   "outputs": [],
   "source": [
    "%%memit\n",
    "agglomerative = AgglomerativeClustering(n_clusters=exp1_centers).fit(exp1_data[100_000]['X_scaled']) # died"
   ]
  },
  {
   "cell_type": "markdown",
   "id": "64ed8930-679a-405d-9b96-c7d657edf93d",
   "metadata": {},
   "source": [
    "### Spectral clustering"
   ]
  },
  {
   "cell_type": "code",
   "execution_count": 5,
   "id": "5116f186-72b4-4ce2-80c6-8da10fb8ddb4",
   "metadata": {},
   "outputs": [],
   "source": [
    "from sklearn.cluster import SpectralClustering"
   ]
  },
  {
   "cell_type": "code",
   "execution_count": 6,
   "id": "4c786653-70c9-4e3f-9c7f-187a4b48cd8b",
   "metadata": {},
   "outputs": [
    {
     "name": "stdout",
     "output_type": "stream",
     "text": [
      "peak memory: 393.25 MiB, increment: 2.67 MiB\n"
     ]
    }
   ],
   "source": [
    "%%memit\n",
    "spectral = SpectralClustering(\n",
    "    n_clusters=exp1_centers, \n",
    "    assign_labels='kmeans', \n",
    "    random_state=exp1_random_state,\n",
    ").fit(exp1_data[100]['X_scaled'])"
   ]
  },
  {
   "cell_type": "code",
   "execution_count": 7,
   "id": "7df521a3-d607-475d-974a-1a63b2da2b27",
   "metadata": {},
   "outputs": [
    {
     "name": "stdout",
     "output_type": "stream",
     "text": [
      "peak memory: 464.19 MiB, increment: 70.91 MiB\n"
     ]
    }
   ],
   "source": [
    "%%memit\n",
    "spectral = SpectralClustering(\n",
    "    n_clusters=exp1_centers, \n",
    "    assign_labels='kmeans', \n",
    "    random_state=exp1_random_state,\n",
    ").fit(exp1_data[1_000]['X_scaled'])"
   ]
  },
  {
   "cell_type": "code",
   "execution_count": 8,
   "id": "4151c3ea-65f1-460d-a303-54c483c5048b",
   "metadata": {},
   "outputs": [
    {
     "name": "stdout",
     "output_type": "stream",
     "text": [
      "peak memory: 2979.70 MiB, increment: 2515.52 MiB\n"
     ]
    }
   ],
   "source": [
    "%%memit\n",
    "spectral = SpectralClustering(\n",
    "    n_clusters=exp1_centers, \n",
    "    assign_labels='kmeans', \n",
    "    random_state=exp1_random_state,\n",
    ").fit(exp1_data[10_000]['X_scaled'])"
   ]
  },
  {
   "cell_type": "code",
   "execution_count": null,
   "id": "c26657de-f1d8-4517-8c89-9ff99e7dfd45",
   "metadata": {},
   "outputs": [],
   "source": [
    "%%memit\n",
    "spectral = SpectralClustering(\n",
    "    n_clusters=exp1_centers, \n",
    "    assign_labels='kmeans', \n",
    "    random_state=exp1_random_state,\n",
    ").fit(exp1_data[100_000]['X_scaled'])"
   ]
  },
  {
   "cell_type": "code",
   "execution_count": null,
   "id": "1b55f72e-a95a-4a60-871c-9f388b34f88e",
   "metadata": {},
   "outputs": [],
   "source": []
  }
 ],
 "metadata": {
  "kernelspec": {
   "display_name": "Python 3 (ipykernel)",
   "language": "python",
   "name": "python3"
  },
  "language_info": {
   "codemirror_mode": {
    "name": "ipython",
    "version": 3
   },
   "file_extension": ".py",
   "mimetype": "text/x-python",
   "name": "python",
   "nbconvert_exporter": "python",
   "pygments_lexer": "ipython3",
   "version": "3.10.6"
  }
 },
 "nbformat": 4,
 "nbformat_minor": 5
}
