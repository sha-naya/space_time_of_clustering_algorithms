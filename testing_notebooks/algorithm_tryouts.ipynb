{
 "cells": [
  {
   "cell_type": "markdown",
   "id": "8d8f672d-a621-4caf-9fcb-c0d222451f10",
   "metadata": {},
   "source": [
    "# Algorithm tryouts\n",
    "## General imports"
   ]
  },
  {
   "cell_type": "code",
   "execution_count": 1,
   "id": "ebb1a4dc-7f21-4207-8945-8a99b11a7dfd",
   "metadata": {},
   "outputs": [],
   "source": [
    "import pandas as pd\n",
    "import numpy as np\n",
    "\n",
    "from sklearn.datasets import make_blobs\n",
    "from sklearn import metrics\n",
    "from sklearn.preprocessing import StandardScaler\n",
    "\n",
    "%load_ext memory_profiler"
   ]
  },
  {
   "cell_type": "markdown",
   "id": "81500650-ece3-464c-b9f5-08453e0cf438",
   "metadata": {},
   "source": [
    "## Data generation"
   ]
  },
  {
   "cell_type": "code",
   "execution_count": 8,
   "id": "84e6694f-94a5-4dd5-894c-3beed356807e",
   "metadata": {},
   "outputs": [],
   "source": [
    "exp1_n_features = 3\n",
    "exp1_centers = 5\n",
    "exp1_random_state = 17\n",
    "def create_exp1_data(n_samples_array: list, n_features: int = 3, centers: int = 5, random_state: int = 17):\n",
    "    global_storage: dict = {}\n",
    "    for n_sample in n_samples_array:\n",
    "        local_storage: dict = {}\n",
    "        X, labels_true = make_blobs(\n",
    "            n_samples=n_sample, \n",
    "            n_features=n_features,\n",
    "            centers=centers, \n",
    "            random_state=random_state, \n",
    "        )\n",
    "        X_scaled = StandardScaler().fit_transform(X)\n",
    "        local_storage['X'], local_storage['X_scaled'], local_storage['labels_true'] = X, X_scaled, labels_true\n",
    "        global_storage[n_sample] = local_storage\n",
    "    return global_storage\n",
    "\n",
    "exp2_n_samples = 1_000\n",
    "exp2_centers = 5\n",
    "exp2_random_state = 17\n",
    "def create_exp2_data(n_features_array: list, n_samples: int = 1_000, centers: int = 5, random_state: int = 17):\n",
    "    global_storage: dict = {}\n",
    "    for n_feature in n_features_array:\n",
    "        local_storage: dict = {}\n",
    "        X, labels_true = make_blobs(\n",
    "            n_samples=n_samples, \n",
    "            n_features=n_feature,\n",
    "            centers=centers, \n",
    "            random_state=random_state, \n",
    "        )\n",
    "        X_scaled = StandardScaler().fit_transform(X)\n",
    "        local_storage['X'], local_storage['X_scaled'], local_storage['labels_true'] = X, X_scaled, labels_true\n",
    "        global_storage[n_feature] = local_storage\n",
    "    return global_storage"
   ]
  },
  {
   "cell_type": "code",
   "execution_count": 30,
   "id": "eac46cd1-0be7-4039-a5f7-b4d10a5d6cca",
   "metadata": {},
   "outputs": [],
   "source": [
    "from sklearn.cluster import DBSCAN\n",
    "from sklearn.neighbors import NearestNeighbors\n",
    "from matplotlib import pyplot as plt\n",
    "\n",
    "def apply_dbscan(exp_data: dict, n_samples_array: list, eps_array: list):\n",
    "    for index, n_sample in enumerate(n_samples_array):\n",
    "        dbscan = DBSCAN(eps=eps_array[index], min_samples=10).fit(exp_data[n_sample]['X_scaled'])\n",
    "        dbscan_labels_pred = dbscan.labels_\n",
    "\n",
    "        rand_score: float = metrics.rand_score(exp_data[n_sample]['labels_true'], dbscan_labels_pred)\n",
    "        homogeneity_score: float = metrics.homogeneity_score(exp_data[n_sample]['labels_true'], dbscan_labels_pred)\n",
    "        \n",
    "        exp_data[n_sample]['rand_score'] = rand_score\n",
    "        exp_data[n_sample]['homogeneity_score'] = homogeneity_score\n",
    "        \n",
    "# for n_sample in exp1_n_samples_array:\n",
    "#     neighbors = NearestNeighbors(n_neighbors=exp1_n_features*2).fit(exp1_data[n_sample]['X_scaled'])\n",
    "#     distances, indices = neighbors.kneighbors(exp1_data[n_sample]['X_scaled'])\n",
    "\n",
    "#     distances = np.sort(distances, axis=0)\n",
    "#     distances = distances[:,1]\n",
    "#     plt.plot(distances)\n",
    "#     plt.show()"
   ]
  },
  {
   "cell_type": "code",
   "execution_count": 3,
   "id": "f4faf416-cf7a-4b26-b12b-9fe52ee50af1",
   "metadata": {},
   "outputs": [],
   "source": [
    "exp1_n_samples_array: list = [100, 1_000, 10_000, 100_000, 1_000_000]\n",
    "exp2_n_features_array: list = [3, 10, 100, 500, 1_000]\n",
    "\n",
    "exp1_data: dict = create_exp1_data(n_samples_array=exp1_n_samples_array)\n",
    "exp2_data: dict = create_exp2_data(n_features_array=exp2_n_features_array)"
   ]
  },
  {
   "cell_type": "markdown",
   "id": "8b429f2c-7bb4-4bfb-9b61-02e925587440",
   "metadata": {},
   "source": [
    "## DBSCAN"
   ]
  },
  {
   "cell_type": "code",
   "execution_count": 31,
   "id": "3790f177-5e7c-489e-b854-a033e2ec9d7e",
   "metadata": {},
   "outputs": [
    {
     "ename": "NameError",
     "evalue": "name 'eps_array' is not defined",
     "output_type": "error",
     "traceback": [
      "\u001b[0;31m---------------------------------------------------------------------------\u001b[0m",
      "\u001b[0;31mNameError\u001b[0m                                 Traceback (most recent call last)",
      "Cell \u001b[0;32mIn [31], line 2\u001b[0m\n\u001b[1;32m      1\u001b[0m exp1_eps_array: \u001b[38;5;28mlist\u001b[39m \u001b[38;5;241m=\u001b[39m [\u001b[38;5;241m0.40\u001b[39m, \u001b[38;5;241m0.30\u001b[39m, \u001b[38;5;241m0.20\u001b[39m, \u001b[38;5;241m0.10\u001b[39m, \u001b[38;5;241m0.05\u001b[39m]\n\u001b[0;32m----> 2\u001b[0m apply_dbscan(exp_data\u001b[38;5;241m=\u001b[39mexp1_data, n_samples_array\u001b[38;5;241m=\u001b[39mexp1_n_samples_array, eps_array\u001b[38;5;241m=\u001b[39mexp1_eps_array)\n\u001b[1;32m      4\u001b[0m \u001b[38;5;28;01mfor\u001b[39;00m i \u001b[38;5;129;01min\u001b[39;00m exp1_n_samples_array:\n\u001b[1;32m      5\u001b[0m     \u001b[38;5;28mprint\u001b[39m(exp1_data[i][\u001b[38;5;124m'\u001b[39m\u001b[38;5;124mrand_score\u001b[39m\u001b[38;5;124m'\u001b[39m])\n",
      "Cell \u001b[0;32mIn [30], line 7\u001b[0m, in \u001b[0;36mapply_dbscan\u001b[0;34m(exp_data, n_samples_array, eps_array)\u001b[0m\n\u001b[1;32m      5\u001b[0m \u001b[38;5;28;01mdef\u001b[39;00m \u001b[38;5;21mapply_dbscan\u001b[39m(exp_data: \u001b[38;5;28mdict\u001b[39m, n_samples_array: \u001b[38;5;28mlist\u001b[39m, eps_array: \u001b[38;5;28mlist\u001b[39m):\n\u001b[1;32m      6\u001b[0m     \u001b[38;5;28;01mfor\u001b[39;00m index, n_sample \u001b[38;5;129;01min\u001b[39;00m \u001b[38;5;28menumerate\u001b[39m(n_samples_array):\n\u001b[0;32m----> 7\u001b[0m         \u001b[43mget_ipython\u001b[49m\u001b[43m(\u001b[49m\u001b[43m)\u001b[49m\u001b[38;5;241;43m.\u001b[39;49m\u001b[43mrun_line_magic\u001b[49m\u001b[43m(\u001b[49m\u001b[38;5;124;43m'\u001b[39;49m\u001b[38;5;124;43mmprun\u001b[39;49m\u001b[38;5;124;43m'\u001b[39;49m\u001b[43m,\u001b[49m\u001b[43m \u001b[49m\u001b[38;5;124;43m\"\u001b[39;49m\u001b[38;5;124;43mdbscan = DBSCAN(eps=eps_array[index], min_samples=10).fit(exp_data[n_sample][\u001b[39;49m\u001b[38;5;124;43m'\u001b[39;49m\u001b[38;5;124;43mX_scaled\u001b[39;49m\u001b[38;5;124;43m'\u001b[39;49m\u001b[38;5;124;43m])\u001b[39;49m\u001b[38;5;124;43m\"\u001b[39;49m\u001b[43m)\u001b[49m\n\u001b[1;32m      8\u001b[0m         dbscan_labels_pred \u001b[38;5;241m=\u001b[39m dbscan\u001b[38;5;241m.\u001b[39mlabels_\n\u001b[1;32m     10\u001b[0m         rand_score: \u001b[38;5;28mfloat\u001b[39m \u001b[38;5;241m=\u001b[39m metrics\u001b[38;5;241m.\u001b[39mrand_score(exp_data[n_sample][\u001b[38;5;124m'\u001b[39m\u001b[38;5;124mlabels_true\u001b[39m\u001b[38;5;124m'\u001b[39m], dbscan_labels_pred)\n",
      "File \u001b[0;32m~/opt/anaconda3/envs/cs566/lib/python3.10/site-packages/IPython/core/interactiveshell.py:2309\u001b[0m, in \u001b[0;36mInteractiveShell.run_line_magic\u001b[0;34m(self, magic_name, line, _stack_depth)\u001b[0m\n\u001b[1;32m   2307\u001b[0m     kwargs[\u001b[38;5;124m'\u001b[39m\u001b[38;5;124mlocal_ns\u001b[39m\u001b[38;5;124m'\u001b[39m] \u001b[38;5;241m=\u001b[39m \u001b[38;5;28mself\u001b[39m\u001b[38;5;241m.\u001b[39mget_local_scope(stack_depth)\n\u001b[1;32m   2308\u001b[0m \u001b[38;5;28;01mwith\u001b[39;00m \u001b[38;5;28mself\u001b[39m\u001b[38;5;241m.\u001b[39mbuiltin_trap:\n\u001b[0;32m-> 2309\u001b[0m     result \u001b[38;5;241m=\u001b[39m \u001b[43mfn\u001b[49m\u001b[43m(\u001b[49m\u001b[38;5;241;43m*\u001b[39;49m\u001b[43margs\u001b[49m\u001b[43m,\u001b[49m\u001b[43m \u001b[49m\u001b[38;5;241;43m*\u001b[39;49m\u001b[38;5;241;43m*\u001b[39;49m\u001b[43mkwargs\u001b[49m\u001b[43m)\u001b[49m\n\u001b[1;32m   2310\u001b[0m \u001b[38;5;28;01mreturn\u001b[39;00m result\n",
      "File \u001b[0;32m~/opt/anaconda3/envs/cs566/lib/python3.10/site-packages/memory_profiler.py:946\u001b[0m, in \u001b[0;36mMemoryProfilerMagics.mprun\u001b[0;34m(self, parameter_s, cell)\u001b[0m\n\u001b[1;32m    943\u001b[0m builtins\u001b[38;5;241m.\u001b[39m\u001b[38;5;18m__dict__\u001b[39m[\u001b[38;5;124m'\u001b[39m\u001b[38;5;124mprofile\u001b[39m\u001b[38;5;124m'\u001b[39m] \u001b[38;5;241m=\u001b[39m profile\n\u001b[1;32m    945\u001b[0m \u001b[38;5;28;01mtry\u001b[39;00m:\n\u001b[0;32m--> 946\u001b[0m     \u001b[43mprofile\u001b[49m\u001b[38;5;241;43m.\u001b[39;49m\u001b[43mrunctx\u001b[49m\u001b[43m(\u001b[49m\u001b[43marg_str\u001b[49m\u001b[43m,\u001b[49m\u001b[43m \u001b[49m\u001b[43mglobal_ns\u001b[49m\u001b[43m,\u001b[49m\u001b[43m \u001b[49m\u001b[43mlocal_ns\u001b[49m\u001b[43m)\u001b[49m\n\u001b[1;32m    947\u001b[0m     message \u001b[38;5;241m=\u001b[39m \u001b[38;5;124m'\u001b[39m\u001b[38;5;124m'\u001b[39m\n\u001b[1;32m    948\u001b[0m \u001b[38;5;28;01mexcept\u001b[39;00m \u001b[38;5;167;01mSystemExit\u001b[39;00m:\n",
      "File \u001b[0;32m~/opt/anaconda3/envs/cs566/lib/python3.10/site-packages/memory_profiler.py:726\u001b[0m, in \u001b[0;36mLineProfiler.runctx\u001b[0;34m(self, cmd, globals, locals)\u001b[0m\n\u001b[1;32m    724\u001b[0m \u001b[38;5;28mself\u001b[39m\u001b[38;5;241m.\u001b[39menable_by_count()\n\u001b[1;32m    725\u001b[0m \u001b[38;5;28;01mtry\u001b[39;00m:\n\u001b[0;32m--> 726\u001b[0m     \u001b[43mexec\u001b[49m\u001b[43m(\u001b[49m\u001b[43mcmd\u001b[49m\u001b[43m,\u001b[49m\u001b[43m \u001b[49m\u001b[38;5;28;43mglobals\u001b[39;49m\u001b[43m,\u001b[49m\u001b[43m \u001b[49m\u001b[38;5;28;43mlocals\u001b[39;49m\u001b[43m)\u001b[49m\n\u001b[1;32m    727\u001b[0m \u001b[38;5;28;01mfinally\u001b[39;00m:\n\u001b[1;32m    728\u001b[0m     \u001b[38;5;28mself\u001b[39m\u001b[38;5;241m.\u001b[39mdisable_by_count()\n",
      "File \u001b[0;32m<string>:1\u001b[0m\n",
      "\u001b[0;31mNameError\u001b[0m: name 'eps_array' is not defined"
     ]
    }
   ],
   "source": [
    "exp1_eps_array: list = [0.40, 0.30, 0.20, 0.10, 0.05]\n",
    "apply_dbscan(exp_data=exp1_data, n_samples_array=exp1_n_samples_array, eps_array=exp1_eps_array)\n",
    "\n",
    "for i in exp1_n_samples_array:\n",
    "    print(exp1_data[i]['rand_score'])\n",
    "    print(exp1_data[i]['homogeneity_score'])\n",
    "    print('-----------------')"
   ]
  },
  {
   "cell_type": "markdown",
   "id": "318438c0-836b-455d-bdf9-62181c60f781",
   "metadata": {},
   "source": [
    "## BIRCH"
   ]
  },
  {
   "cell_type": "code",
   "execution_count": 7,
   "id": "45f9351a-a1ea-4c04-9411-9b27043a9d6b",
   "metadata": {},
   "outputs": [
    {
     "name": "stdout",
     "output_type": "stream",
     "text": [
      "peak memory: 1260.95 MiB, increment: 842.17 MiB\n",
      "peak memory: 1301.30 MiB, increment: 803.03 MiB\n",
      "peak memory: 1309.78 MiB, increment: 770.50 MiB\n",
      "peak memory: 1340.16 MiB, increment: 792.61 MiB\n",
      "peak memory: 1348.56 MiB, increment: 770.47 MiB\n",
      "peak memory: 1348.91 MiB, increment: 762.80 MiB\n",
      "peak memory: 1349.77 MiB, increment: 763.12 MiB\n",
      "peak memory: 1378.83 MiB, increment: 791.83 MiB\n",
      "2.89 s ± 13.6 ms per loop (mean ± std. dev. of 7 runs, 1 loop each)\n"
     ]
    }
   ],
   "source": [
    "%%timeit\n",
    "%%memit\n",
    "from sklearn.cluster import Birch\n",
    "birch = Birch(threshold=0.5, branching_factor=50, n_clusters=centers).fit(X_scaled)\n",
    "birch_labels_pred = birch.labels_"
   ]
  },
  {
   "cell_type": "code",
   "execution_count": 8,
   "id": "12fbe889-2c64-4689-966a-87a33c2423a1",
   "metadata": {},
   "outputs": [
    {
     "name": "stdout",
     "output_type": "stream",
     "text": [
      "1.0\n",
      "1.0\n"
     ]
    }
   ],
   "source": [
    "print(metrics.rand_score(labels_true, birch_labels_pred))\n",
    "print(metrics.homogeneity_score(labels_true, birch_labels_pred))"
   ]
  },
  {
   "cell_type": "markdown",
   "id": "dd2b7646-ac9a-42bf-9e19-974fdbefdd8d",
   "metadata": {},
   "source": [
    "## Spectral clustering"
   ]
  },
  {
   "cell_type": "code",
   "execution_count": 9,
   "id": "a1ea0923-8321-413e-a339-c6f8671a76bd",
   "metadata": {},
   "outputs": [
    {
     "name": "stdout",
     "output_type": "stream",
     "text": [
      "peak memory: 3125.44 MiB, increment: 2508.66 MiB\n",
      "peak memory: 3378.06 MiB, increment: 2283.33 MiB\n",
      "peak memory: 3166.78 MiB, increment: 2958.25 MiB\n",
      "peak memory: 3144.28 MiB, increment: 2826.38 MiB\n",
      "peak memory: 3332.25 MiB, increment: 3134.72 MiB\n",
      "peak memory: 4034.67 MiB, increment: 3034.47 MiB\n",
      "peak memory: 3771.92 MiB, increment: 2965.27 MiB\n",
      "peak memory: 3187.27 MiB, increment: 2776.31 MiB\n",
      "11 s ± 309 ms per loop (mean ± std. dev. of 7 runs, 1 loop each)\n"
     ]
    }
   ],
   "source": [
    "%%timeit\n",
    "%%memit\n",
    "from sklearn.cluster import SpectralClustering\n",
    "spectral = SpectralClustering(\n",
    "    n_clusters=centers, \n",
    "    assign_labels='kmeans', \n",
    "    random_state=random_state,\n",
    ").fit(X_scaled)\n",
    "spectral_labels_pred = spectral.labels_"
   ]
  },
  {
   "cell_type": "code",
   "execution_count": 10,
   "id": "10b45f9b-ece2-478e-aa76-f89f69471258",
   "metadata": {},
   "outputs": [
    {
     "name": "stdout",
     "output_type": "stream",
     "text": [
      "1.0\n",
      "1.0\n"
     ]
    }
   ],
   "source": [
    "print(metrics.rand_score(labels_true, spectral_labels_pred))\n",
    "print(metrics.homogeneity_score(labels_true, spectral_labels_pred))"
   ]
  },
  {
   "cell_type": "markdown",
   "id": "3307fd05-b144-4623-8557-128bfc3ce6c6",
   "metadata": {},
   "source": [
    "## K-means"
   ]
  },
  {
   "cell_type": "code",
   "execution_count": 11,
   "id": "c6e22156-22b9-4b43-b574-c16fa9db9b67",
   "metadata": {},
   "outputs": [
    {
     "name": "stdout",
     "output_type": "stream",
     "text": [
      "peak memory: 237.52 MiB, increment: 28.03 MiB\n",
      "peak memory: 239.53 MiB, increment: 2.02 MiB\n",
      "peak memory: 246.25 MiB, increment: 6.72 MiB\n",
      "peak memory: 246.42 MiB, increment: 0.17 MiB\n",
      "peak memory: 246.58 MiB, increment: 0.16 MiB\n",
      "peak memory: 246.72 MiB, increment: 0.14 MiB\n",
      "peak memory: 246.83 MiB, increment: 0.11 MiB\n",
      "peak memory: 247.00 MiB, increment: 0.17 MiB\n",
      "833 ms ± 155 ms per loop (mean ± std. dev. of 7 runs, 1 loop each)\n"
     ]
    }
   ],
   "source": [
    "%%timeit\n",
    "%%memit\n",
    "from sklearn.cluster import KMeans\n",
    "kmeans = KMeans(\n",
    "    n_clusters=centers, \n",
    "    random_state=random_state\n",
    ").fit(X_scaled)\n",
    "kmeans_labels_pred = kmeans.labels_"
   ]
  },
  {
   "cell_type": "code",
   "execution_count": 12,
   "id": "dc388764-4684-4a7e-92b0-2123f0f0b40d",
   "metadata": {},
   "outputs": [
    {
     "name": "stdout",
     "output_type": "stream",
     "text": [
      "1.0\n",
      "1.0\n"
     ]
    }
   ],
   "source": [
    "print(metrics.rand_score(labels_true, kmeans_labels_pred))\n",
    "print(metrics.homogeneity_score(labels_true, kmeans_labels_pred))"
   ]
  },
  {
   "cell_type": "markdown",
   "id": "87d60fbb",
   "metadata": {},
   "source": [
    "## Agglomerative clustering"
   ]
  },
  {
   "cell_type": "code",
   "execution_count": 13,
   "id": "a3f3f86e",
   "metadata": {},
   "outputs": [
    {
     "name": "stdout",
     "output_type": "stream",
     "text": [
      "peak memory: 1057.98 MiB, increment: 810.92 MiB\n",
      "peak memory: 1058.61 MiB, increment: 762.89 MiB\n",
      "peak memory: 1058.86 MiB, increment: 762.88 MiB\n",
      "peak memory: 1058.86 MiB, increment: 762.88 MiB\n",
      "peak memory: 1058.86 MiB, increment: 762.88 MiB\n",
      "peak memory: 1058.88 MiB, increment: 762.89 MiB\n",
      "peak memory: 1058.88 MiB, increment: 762.88 MiB\n",
      "peak memory: 1058.89 MiB, increment: 762.88 MiB\n",
      "2.98 s ± 3.7 ms per loop (mean ± std. dev. of 7 runs, 1 loop each)\n"
     ]
    }
   ],
   "source": [
    "%%timeit\n",
    "%%memit\n",
    "from sklearn.cluster import AgglomerativeClustering\n",
    "agglomerative = AgglomerativeClustering(n_clusters=centers).fit(X_scaled)\n",
    "agglomerative_labels_pred = agglomerative.labels_"
   ]
  },
  {
   "cell_type": "code",
   "execution_count": 14,
   "id": "99388514-48c0-4467-9804-be85c0064f4b",
   "metadata": {},
   "outputs": [
    {
     "name": "stdout",
     "output_type": "stream",
     "text": [
      "1.0\n",
      "1.0\n"
     ]
    }
   ],
   "source": [
    "print(metrics.rand_score(labels_true, agglomerative_labels_pred))\n",
    "print(metrics.homogeneity_score(labels_true, agglomerative_labels_pred))"
   ]
  },
  {
   "cell_type": "markdown",
   "id": "b060c42b",
   "metadata": {},
   "source": [
    "## HDBSCAN"
   ]
  },
  {
   "cell_type": "code",
   "execution_count": 15,
   "id": "b094dc32",
   "metadata": {},
   "outputs": [
    {
     "name": "stdout",
     "output_type": "stream",
     "text": [
      "peak memory: 302.11 MiB, increment: 6.05 MiB\n",
      "peak memory: 302.12 MiB, increment: 0.02 MiB\n",
      "peak memory: 303.09 MiB, increment: 0.97 MiB\n",
      "peak memory: 305.91 MiB, increment: 2.81 MiB\n",
      "peak memory: 305.91 MiB, increment: 0.00 MiB\n",
      "peak memory: 306.34 MiB, increment: 0.44 MiB\n",
      "peak memory: 306.53 MiB, increment: 0.19 MiB\n",
      "peak memory: 306.52 MiB, increment: 0.06 MiB\n",
      "6.06 s ± 23.5 ms per loop (mean ± std. dev. of 7 runs, 1 loop each)\n"
     ]
    }
   ],
   "source": [
    "%%timeit\n",
    "%%memit\n",
    "import hdbscan\n",
    "hdbscan_clusterer = hdbscan.HDBSCAN(min_cluster_size=5, metric='euclidean').fit(X_scaled)\n",
    "hdbscan_labels_pred = hdbscan_clusterer.labels_"
   ]
  },
  {
   "cell_type": "code",
   "execution_count": 16,
   "id": "1e88a7c0",
   "metadata": {},
   "outputs": [
    {
     "name": "stdout",
     "output_type": "stream",
     "text": [
      "1.0\n",
      "1.0\n"
     ]
    }
   ],
   "source": [
    "print(metrics.rand_score(labels_true, hdbscan_labels_pred))\n",
    "print(metrics.homogeneity_score(labels_true, hdbscan_labels_pred))"
   ]
  },
  {
   "cell_type": "code",
   "execution_count": null,
   "id": "0d7d1f26-faf9-4a28-b944-daaa6d17dafe",
   "metadata": {},
   "outputs": [],
   "source": []
  }
 ],
 "metadata": {
  "kernelspec": {
   "display_name": "Python 3 (ipykernel)",
   "language": "python",
   "name": "python3"
  },
  "language_info": {
   "codemirror_mode": {
    "name": "ipython",
    "version": 3
   },
   "file_extension": ".py",
   "mimetype": "text/x-python",
   "name": "python",
   "nbconvert_exporter": "python",
   "pygments_lexer": "ipython3",
   "version": "3.10.6"
  }
 },
 "nbformat": 4,
 "nbformat_minor": 5
}
