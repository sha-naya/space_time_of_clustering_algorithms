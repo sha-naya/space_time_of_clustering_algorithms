{
 "cells": [
  {
   "cell_type": "code",
   "execution_count": 2,
   "id": "3466d349-a0f1-4b96-88bb-73bef8967c7e",
   "metadata": {},
   "outputs": [],
   "source": [
    "import pandas as pd\n",
    "import numpy as np\n",
    "\n",
    "from sklearn.datasets import make_blobs\n",
    "from sklearn import metrics\n",
    "from sklearn.preprocessing import StandardScaler\n",
    "\n",
    "%load_ext memory_profiler"
   ]
  },
  {
   "cell_type": "code",
   "execution_count": 3,
   "id": "fc0ed2f8-8607-4ab2-b340-a429c3d6eea1",
   "metadata": {},
   "outputs": [],
   "source": [
    "def create_exp1_data(n_samples_array: list, n_features: int = 3, centers: int = 5, random_state: int = 17):\n",
    "    global_storage: dict = {}\n",
    "    for n_sample in n_samples_array:\n",
    "        local_storage: dict = {}\n",
    "        X, labels_true = make_blobs(\n",
    "            n_samples=n_sample, \n",
    "            n_features=n_features,\n",
    "            centers=centers, \n",
    "            random_state=random_state, \n",
    "        )\n",
    "        X_scaled = StandardScaler().fit_transform(X)\n",
    "        local_storage['X'], local_storage['X_scaled'], local_storage['labels_true'] = X, X_scaled, labels_true\n",
    "        global_storage[n_sample] = local_storage\n",
    "    return global_storage"
   ]
  },
  {
   "cell_type": "code",
   "execution_count": 4,
   "id": "c1a67c8f-517a-4a04-808a-3c29ae5e8eaf",
   "metadata": {},
   "outputs": [],
   "source": [
    "exp1_n_features = 3\n",
    "exp1_centers = 5\n",
    "exp1_random_state = 17\n",
    "exp1_n_samples_array: list = [100, 1_000, 10_000, 100_000, 1_000_000, 2_000_000]\n",
    "\n",
    "exp1_data: dict = create_exp1_data(n_samples_array=exp1_n_samples_array)"
   ]
  },
  {
   "cell_type": "markdown",
   "id": "8602ad5e-5a92-4660-b7ec-4e54efa36e47",
   "metadata": {},
   "source": [
    "### DBSCAN"
   ]
  },
  {
   "cell_type": "code",
   "execution_count": 4,
   "id": "33b3b766-9e99-439b-913a-490dcf9e56c0",
   "metadata": {},
   "outputs": [],
   "source": [
    "from sklearn.cluster import DBSCAN\n",
    "from sklearn.neighbors import NearestNeighbors\n",
    "from matplotlib import pyplot as plt\n",
    "\n",
    "def apply_dbscan(exp_data: dict, n_samples_array: list, eps_array: list):\n",
    "    for index, n_sample in enumerate(n_samples_array):\n",
    "        %memit dbscan = DBSCAN(eps=eps_array[index], min_samples=10).fit(exp_data[n_sample]['X_scaled'])\n",
    "        dbscan_labels_pred = dbscan.labels_\n",
    "\n",
    "        rand_score: float = metrics.rand_score(exp_data[n_sample]['labels_true'], dbscan_labels_pred)\n",
    "        homogeneity_score: float = metrics.homogeneity_score(exp_data[n_sample]['labels_true'], dbscan_labels_pred)\n",
    "        \n",
    "        exp_data[n_sample]['rand_score'] = rand_score\n",
    "        exp_data[n_sample]['homogeneity_score'] = homogeneity_score"
   ]
  },
  {
   "cell_type": "code",
   "execution_count": 5,
   "id": "97267457-96af-41fc-87a0-ecc9f4697677",
   "metadata": {},
   "outputs": [],
   "source": [
    "exp1_eps_array: list = [0.40, 0.30, 0.20, 0.10, 0.05, 0.05]"
   ]
  },
  {
   "cell_type": "code",
   "execution_count": 9,
   "id": "b81a4b2f-711a-4474-84a5-5efab5652500",
   "metadata": {},
   "outputs": [
    {
     "name": "stdout",
     "output_type": "stream",
     "text": [
      "peak memory: 381.20 MiB, increment: 0.27 MiB\n"
     ]
    }
   ],
   "source": [
    "%%memit\n",
    "dbscan = DBSCAN(eps=exp1_eps_array[0], min_samples=10).fit(exp1_data[100]['X_scaled'])"
   ]
  },
  {
   "cell_type": "code",
   "execution_count": 10,
   "id": "2fbb344c-8897-4bb9-bab4-074367ba1734",
   "metadata": {},
   "outputs": [
    {
     "name": "stdout",
     "output_type": "stream",
     "text": [
      "peak memory: 381.55 MiB, increment: 0.33 MiB\n"
     ]
    }
   ],
   "source": [
    "%%memit\n",
    "dbscan = DBSCAN(eps=exp1_eps_array[1], min_samples=10).fit(exp1_data[1_000]['X_scaled'])"
   ]
  },
  {
   "cell_type": "code",
   "execution_count": 11,
   "id": "e3a80c1f-a8be-469a-a7f5-44a0a15bdc59",
   "metadata": {},
   "outputs": [
    {
     "name": "stdout",
     "output_type": "stream",
     "text": [
      "peak memory: 403.36 MiB, increment: 21.81 MiB\n"
     ]
    }
   ],
   "source": [
    "%%memit\n",
    "dbscan = DBSCAN(eps=exp1_eps_array[2], min_samples=10).fit(exp1_data[10_000]['X_scaled'])"
   ]
  },
  {
   "cell_type": "code",
   "execution_count": 12,
   "id": "bd48d005-1482-4d83-8140-a121b6ae2af4",
   "metadata": {},
   "outputs": [
    {
     "name": "stdout",
     "output_type": "stream",
     "text": [
      "peak memory: 584.23 MiB, increment: 180.88 MiB\n"
     ]
    }
   ],
   "source": [
    "%%memit\n",
    "dbscan = DBSCAN(eps=exp1_eps_array[3], min_samples=10).fit(exp1_data[100_000]['X_scaled'])"
   ]
  },
  {
   "cell_type": "code",
   "execution_count": 13,
   "id": "6a980f11-cb2f-415d-bfa0-d02ba861ba6a",
   "metadata": {},
   "outputs": [
    {
     "name": "stdout",
     "output_type": "stream",
     "text": [
      "peak memory: 2201.16 MiB, increment: 1758.53 MiB\n"
     ]
    }
   ],
   "source": [
    "%%memit\n",
    "dbscan = DBSCAN(eps=exp1_eps_array[4], min_samples=10).fit(exp1_data[1_000_000]['X_scaled'])"
   ]
  },
  {
   "cell_type": "code",
   "execution_count": 6,
   "id": "fd6a2681-5296-4747-9911-36a058eaa6e4",
   "metadata": {},
   "outputs": [
    {
     "name": "stdout",
     "output_type": "stream",
     "text": [
      "peak memory: 3946.09 MiB, increment: 3542.77 MiB\n"
     ]
    }
   ],
   "source": [
    "%%memit\n",
    "dbscan = DBSCAN(eps=exp1_eps_array[5], min_samples=10).fit(exp1_data[2_000_000]['X_scaled'])"
   ]
  },
  {
   "cell_type": "markdown",
   "id": "9a49769d-b722-4ab8-9375-9be2b88cd366",
   "metadata": {},
   "source": [
    "### HDBSCAN"
   ]
  },
  {
   "cell_type": "code",
   "execution_count": 7,
   "id": "a9776483-acf8-4212-9b14-064c9abe67ba",
   "metadata": {},
   "outputs": [],
   "source": [
    "import hdbscan"
   ]
  },
  {
   "cell_type": "code",
   "execution_count": 8,
   "id": "8da851ed-87db-479a-a43d-1c4637685475",
   "metadata": {},
   "outputs": [
    {
     "name": "stdout",
     "output_type": "stream",
     "text": [
      "peak memory: 373.16 MiB, increment: 0.81 MiB\n"
     ]
    }
   ],
   "source": [
    "%%memit\n",
    "hdbscan_clusterer = hdbscan.HDBSCAN(min_cluster_size=10, metric='euclidean').fit(exp1_data[100]['X_scaled'])"
   ]
  },
  {
   "cell_type": "code",
   "execution_count": 9,
   "id": "9949efbb-cbd7-4439-b89b-580b8c117750",
   "metadata": {},
   "outputs": [
    {
     "name": "stdout",
     "output_type": "stream",
     "text": [
      "peak memory: 373.94 MiB, increment: 0.77 MiB\n"
     ]
    }
   ],
   "source": [
    "%%memit\n",
    "hdbscan_clusterer = hdbscan.HDBSCAN(min_cluster_size=10, metric='euclidean').fit(exp1_data[1_000]['X_scaled'])"
   ]
  },
  {
   "cell_type": "code",
   "execution_count": 10,
   "id": "1c3d2621-4e33-4958-9661-d525eef78e7c",
   "metadata": {},
   "outputs": [
    {
     "name": "stdout",
     "output_type": "stream",
     "text": [
      "peak memory: 379.12 MiB, increment: 5.19 MiB\n"
     ]
    }
   ],
   "source": [
    "%%memit\n",
    "hdbscan_clusterer = hdbscan.HDBSCAN(min_cluster_size=10, metric='euclidean').fit(exp1_data[10_000]['X_scaled'])"
   ]
  },
  {
   "cell_type": "code",
   "execution_count": 11,
   "id": "ac20ae44-6186-4238-9372-e6ccbadf2577",
   "metadata": {},
   "outputs": [
    {
     "name": "stdout",
     "output_type": "stream",
     "text": [
      "peak memory: 484.38 MiB, increment: 105.23 MiB\n"
     ]
    }
   ],
   "source": [
    "%%memit\n",
    "hdbscan_clusterer = hdbscan.HDBSCAN(min_cluster_size=10, metric='euclidean').fit(exp1_data[100_000]['X_scaled'])"
   ]
  },
  {
   "cell_type": "code",
   "execution_count": 12,
   "id": "51983143-82cd-4aaf-b453-ea4475d6b451",
   "metadata": {},
   "outputs": [
    {
     "name": "stdout",
     "output_type": "stream",
     "text": [
      "peak memory: 1241.03 MiB, increment: 762.06 MiB\n"
     ]
    }
   ],
   "source": [
    "%%memit\n",
    "hdbscan_clusterer = hdbscan.HDBSCAN(min_cluster_size=10, metric='euclidean').fit(exp1_data[1_000_000]['X_scaled'])"
   ]
  },
  {
   "cell_type": "code",
   "execution_count": 13,
   "id": "fb306561-9b99-48f1-b545-97a73ddafd5d",
   "metadata": {},
   "outputs": [
    {
     "name": "stdout",
     "output_type": "stream",
     "text": [
      "peak memory: 1329.27 MiB, increment: 356.02 MiB\n"
     ]
    }
   ],
   "source": [
    "%%memit\n",
    "hdbscan_clusterer = hdbscan.HDBSCAN(min_cluster_size=10, metric='euclidean').fit(exp1_data[2_000_000]['X_scaled'])"
   ]
  },
  {
   "cell_type": "markdown",
   "id": "1033ed46-d21e-4413-ba77-3e4a78afb49f",
   "metadata": {},
   "source": [
    "### K-means"
   ]
  },
  {
   "cell_type": "code",
   "execution_count": 14,
   "id": "e245d36d-599a-4123-898e-db6952b5bdfd",
   "metadata": {},
   "outputs": [],
   "source": [
    "from sklearn.cluster import KMeans"
   ]
  },
  {
   "cell_type": "code",
   "execution_count": 16,
   "id": "2a15d650-40b2-46a7-aa5e-edacc18cdd7e",
   "metadata": {},
   "outputs": [
    {
     "name": "stdout",
     "output_type": "stream",
     "text": [
      "peak memory: 758.08 MiB, increment: 0.39 MiB\n"
     ]
    }
   ],
   "source": [
    "%%memit\n",
    "kmeans = KMeans(\n",
    "    n_clusters=exp1_centers, \n",
    "    random_state=exp1_random_state,\n",
    ").fit(exp1_data[100]['X_scaled'])"
   ]
  },
  {
   "cell_type": "code",
   "execution_count": 17,
   "id": "9230fb2c-11ff-45b1-b8ae-fd8d039c016d",
   "metadata": {},
   "outputs": [
    {
     "name": "stdout",
     "output_type": "stream",
     "text": [
      "peak memory: 758.53 MiB, increment: 0.44 MiB\n"
     ]
    }
   ],
   "source": [
    "%%memit\n",
    "kmeans = KMeans(\n",
    "    n_clusters=exp1_centers, \n",
    "    random_state=exp1_random_state,\n",
    ").fit(exp1_data[1_000]['X_scaled'])"
   ]
  },
  {
   "cell_type": "code",
   "execution_count": 18,
   "id": "173ba365-1157-42c6-a593-b146ddc937e7",
   "metadata": {},
   "outputs": [
    {
     "name": "stdout",
     "output_type": "stream",
     "text": [
      "peak memory: 734.30 MiB, increment: -24.25 MiB\n"
     ]
    }
   ],
   "source": [
    "%%memit\n",
    "kmeans = KMeans(\n",
    "    n_clusters=exp1_centers, \n",
    "    random_state=exp1_random_state,\n",
    ").fit(exp1_data[10_000]['X_scaled'])"
   ]
  },
  {
   "cell_type": "code",
   "execution_count": 19,
   "id": "85d8cd61-8773-4748-a514-e96417f51725",
   "metadata": {},
   "outputs": [
    {
     "name": "stdout",
     "output_type": "stream",
     "text": [
      "peak memory: 765.05 MiB, increment: 30.75 MiB\n"
     ]
    }
   ],
   "source": [
    "%%memit\n",
    "kmeans = KMeans(\n",
    "    n_clusters=exp1_centers, \n",
    "    random_state=exp1_random_state,\n",
    ").fit(exp1_data[100_000]['X_scaled'])"
   ]
  },
  {
   "cell_type": "code",
   "execution_count": 20,
   "id": "ef6be98f-b9c4-4d71-a84d-bab4ef568c1f",
   "metadata": {},
   "outputs": [
    {
     "name": "stdout",
     "output_type": "stream",
     "text": [
      "peak memory: 835.55 MiB, increment: 93.23 MiB\n"
     ]
    }
   ],
   "source": [
    "%%memit\n",
    "kmeans = KMeans(\n",
    "    n_clusters=exp1_centers, \n",
    "    random_state=exp1_random_state,\n",
    ").fit(exp1_data[1_000_000]['X_scaled'])"
   ]
  },
  {
   "cell_type": "code",
   "execution_count": 21,
   "id": "b006b8c6-99d8-4888-ae0c-92793afe3611",
   "metadata": {},
   "outputs": [
    {
     "name": "stdout",
     "output_type": "stream",
     "text": [
      "peak memory: 948.55 MiB, increment: 120.12 MiB\n"
     ]
    }
   ],
   "source": [
    "%%memit\n",
    "kmeans = KMeans(\n",
    "    n_clusters=exp1_centers, \n",
    "    random_state=exp1_random_state,\n",
    ").fit(exp1_data[2_000_000]['X_scaled'])"
   ]
  },
  {
   "cell_type": "markdown",
   "id": "9d9ed678-af14-4a16-b13f-00050c884304",
   "metadata": {},
   "source": [
    "### BIRCH"
   ]
  },
  {
   "cell_type": "code",
   "execution_count": 22,
   "id": "669007fd-9c67-4558-b3ff-f9e4505e6892",
   "metadata": {},
   "outputs": [],
   "source": [
    "from sklearn.cluster import Birch"
   ]
  },
  {
   "cell_type": "code",
   "execution_count": 23,
   "id": "eae1f074-ad85-4686-b6e8-64179c55eec4",
   "metadata": {},
   "outputs": [
    {
     "name": "stdout",
     "output_type": "stream",
     "text": [
      "peak memory: 949.30 MiB, increment: 0.59 MiB\n"
     ]
    }
   ],
   "source": [
    "%%memit\n",
    "birch = Birch(threshold=0.5, branching_factor=50, n_clusters=exp1_centers).fit(exp1_data[100]['X_scaled'])"
   ]
  },
  {
   "cell_type": "code",
   "execution_count": 24,
   "id": "cf3cc39c-ed68-4c63-9baa-21063fd0797e",
   "metadata": {},
   "outputs": [
    {
     "name": "stdout",
     "output_type": "stream",
     "text": [
      "peak memory: 949.33 MiB, increment: 0.02 MiB\n"
     ]
    }
   ],
   "source": [
    "%%memit\n",
    "birch = Birch(threshold=0.5, branching_factor=50, n_clusters=exp1_centers).fit(exp1_data[1_000]['X_scaled'])"
   ]
  },
  {
   "cell_type": "code",
   "execution_count": 25,
   "id": "b3b66ad3-16fc-47d2-8a8b-fa55d29119a9",
   "metadata": {},
   "outputs": [
    {
     "name": "stdout",
     "output_type": "stream",
     "text": [
      "peak memory: 949.36 MiB, increment: 0.03 MiB\n"
     ]
    }
   ],
   "source": [
    "%%memit\n",
    "birch = Birch(threshold=0.5, branching_factor=50, n_clusters=exp1_centers).fit(exp1_data[10_000]['X_scaled'])"
   ]
  },
  {
   "cell_type": "code",
   "execution_count": 26,
   "id": "4c342ced-0a7a-4699-ad1b-e9235a60e9b8",
   "metadata": {},
   "outputs": [
    {
     "name": "stdout",
     "output_type": "stream",
     "text": [
      "peak memory: 951.42 MiB, increment: 2.06 MiB\n"
     ]
    }
   ],
   "source": [
    "%%memit\n",
    "birch = Birch(threshold=0.5, branching_factor=50, n_clusters=exp1_centers).fit(exp1_data[100_000]['X_scaled'])"
   ]
  },
  {
   "cell_type": "code",
   "execution_count": 27,
   "id": "792c735c-3ec2-4877-a606-c2c3edbf0608",
   "metadata": {},
   "outputs": [
    {
     "name": "stdout",
     "output_type": "stream",
     "text": [
      "peak memory: 967.42 MiB, increment: 16.00 MiB\n"
     ]
    }
   ],
   "source": [
    "%%memit\n",
    "birch = Birch(threshold=0.5, branching_factor=50, n_clusters=exp1_centers).fit(exp1_data[1_000_000]['X_scaled'])"
   ]
  },
  {
   "cell_type": "code",
   "execution_count": 28,
   "id": "b08da919-077a-4344-b402-6fd243456488",
   "metadata": {},
   "outputs": [
    {
     "name": "stdout",
     "output_type": "stream",
     "text": [
      "peak memory: 967.42 MiB, increment: 0.00 MiB\n"
     ]
    }
   ],
   "source": [
    "%%memit\n",
    "birch = Birch(threshold=0.5, branching_factor=50, n_clusters=exp1_centers).fit(exp1_data[2_000_000]['X_scaled'])"
   ]
  },
  {
   "cell_type": "markdown",
   "id": "16455e8e-c5fe-4408-8c19-93d3f3fcc7ef",
   "metadata": {},
   "source": [
    "### Agglomerative clustering"
   ]
  },
  {
   "cell_type": "code",
   "execution_count": 29,
   "id": "0c7d9298-dce2-4fb8-ab46-ca40668f9507",
   "metadata": {},
   "outputs": [],
   "source": [
    "from sklearn.cluster import AgglomerativeClustering"
   ]
  },
  {
   "cell_type": "code",
   "execution_count": 30,
   "id": "31d1e7e5-ce65-413d-8d14-fd53c43579ac",
   "metadata": {},
   "outputs": [
    {
     "name": "stdout",
     "output_type": "stream",
     "text": [
      "peak memory: 967.47 MiB, increment: -0.02 MiB\n"
     ]
    }
   ],
   "source": [
    "%%memit\n",
    "agglomerative = AgglomerativeClustering(n_clusters=exp1_centers).fit(exp1_data[100]['X_scaled'])"
   ]
  },
  {
   "cell_type": "code",
   "execution_count": 31,
   "id": "a7cdbe75-c007-4a6e-9e37-cac04f7148fa",
   "metadata": {},
   "outputs": [
    {
     "name": "stdout",
     "output_type": "stream",
     "text": [
      "peak memory: 967.64 MiB, increment: 0.14 MiB\n"
     ]
    }
   ],
   "source": [
    "%%memit\n",
    "agglomerative = AgglomerativeClustering(n_clusters=exp1_centers).fit(exp1_data[1_000]['X_scaled'])"
   ]
  },
  {
   "cell_type": "code",
   "execution_count": 32,
   "id": "051367d4-3232-4420-98a5-6a675b63cc1e",
   "metadata": {},
   "outputs": [
    {
     "name": "stdout",
     "output_type": "stream",
     "text": [
      "peak memory: 1732.44 MiB, increment: 764.80 MiB\n"
     ]
    }
   ],
   "source": [
    "%%memit\n",
    "agglomerative = AgglomerativeClustering(n_clusters=exp1_centers).fit(exp1_data[10_000]['X_scaled'])"
   ]
  },
  {
   "cell_type": "code",
   "execution_count": null,
   "id": "06a61e5e-8037-4cd6-8424-c2b4a40ce12d",
   "metadata": {},
   "outputs": [],
   "source": [
    "%%memit\n",
    "agglomerative = AgglomerativeClustering(n_clusters=exp1_centers).fit(exp1_data[100_000]['X_scaled']) # died"
   ]
  },
  {
   "cell_type": "markdown",
   "id": "64ed8930-679a-405d-9b96-c7d657edf93d",
   "metadata": {},
   "source": [
    "### Spectral clustering"
   ]
  },
  {
   "cell_type": "code",
   "execution_count": 5,
   "id": "5116f186-72b4-4ce2-80c6-8da10fb8ddb4",
   "metadata": {},
   "outputs": [],
   "source": [
    "from sklearn.cluster import SpectralClustering"
   ]
  },
  {
   "cell_type": "code",
   "execution_count": 6,
   "id": "4c786653-70c9-4e3f-9c7f-187a4b48cd8b",
   "metadata": {},
   "outputs": [
    {
     "name": "stdout",
     "output_type": "stream",
     "text": [
      "peak memory: 393.25 MiB, increment: 2.67 MiB\n"
     ]
    }
   ],
   "source": [
    "%%memit\n",
    "spectral = SpectralClustering(\n",
    "    n_clusters=exp1_centers, \n",
    "    assign_labels='kmeans', \n",
    "    random_state=exp1_random_state,\n",
    ").fit(exp1_data[100]['X_scaled'])"
   ]
  },
  {
   "cell_type": "code",
   "execution_count": 7,
   "id": "7df521a3-d607-475d-974a-1a63b2da2b27",
   "metadata": {},
   "outputs": [
    {
     "name": "stdout",
     "output_type": "stream",
     "text": [
      "peak memory: 464.19 MiB, increment: 70.91 MiB\n"
     ]
    }
   ],
   "source": [
    "%%memit\n",
    "spectral = SpectralClustering(\n",
    "    n_clusters=exp1_centers, \n",
    "    assign_labels='kmeans', \n",
    "    random_state=exp1_random_state,\n",
    ").fit(exp1_data[1_000]['X_scaled'])"
   ]
  },
  {
   "cell_type": "code",
   "execution_count": 8,
   "id": "4151c3ea-65f1-460d-a303-54c483c5048b",
   "metadata": {},
   "outputs": [
    {
     "name": "stdout",
     "output_type": "stream",
     "text": [
      "peak memory: 2979.70 MiB, increment: 2515.52 MiB\n"
     ]
    }
   ],
   "source": [
    "%%memit\n",
    "spectral = SpectralClustering(\n",
    "    n_clusters=exp1_centers, \n",
    "    assign_labels='kmeans', \n",
    "    random_state=exp1_random_state,\n",
    ").fit(exp1_data[10_000]['X_scaled'])"
   ]
  },
  {
   "cell_type": "code",
   "execution_count": null,
   "id": "c26657de-f1d8-4517-8c89-9ff99e7dfd45",
   "metadata": {},
   "outputs": [],
   "source": [
    "%%memit\n",
    "spectral = SpectralClustering(\n",
    "    n_clusters=exp1_centers, \n",
    "    assign_labels='kmeans', \n",
    "    random_state=exp1_random_state,\n",
    ").fit(exp1_data[100_000]['X_scaled'])"
   ]
  },
  {
   "cell_type": "code",
   "execution_count": null,
   "id": "1b55f72e-a95a-4a60-871c-9f388b34f88e",
   "metadata": {},
   "outputs": [],
   "source": []
  }
 ],
 "metadata": {
  "kernelspec": {
   "display_name": "Python 3 (ipykernel)",
   "language": "python",
   "name": "python3"
  },
  "language_info": {
   "codemirror_mode": {
    "name": "ipython",
    "version": 3
   },
   "file_extension": ".py",
   "mimetype": "text/x-python",
   "name": "python",
   "nbconvert_exporter": "python",
   "pygments_lexer": "ipython3",
   "version": "3.10.6"
  }
 },
 "nbformat": 4,
 "nbformat_minor": 5
}
